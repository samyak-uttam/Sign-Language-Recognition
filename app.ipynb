{
 "cells": [
  {
   "cell_type": "code",
   "execution_count": 1,
   "metadata": {},
   "outputs": [],
   "source": [
    "from tkinter import *\n",
    "from PIL import ImageTk, Image\n",
    "import numpy as np\n",
    "import json\n",
    "from tensorflow.keras.models import load_model\n",
    "from string import ascii_lowercase\n",
    "import matplotlib\n",
    "matplotlib.use(\"Agg\")\n",
    "import matplotlib.pyplot as plt\n",
    "import cv2\n",
    "from Preprocess import preprocess\n",
    "import seaborn as sns\n",
    "from nltk.corpus import words\n",
    "sns.set()\n",
    "from matplotlib.backends.backend_tkagg import FigureCanvasTkAgg, NavigationToolbar2Tk"
   ]
  },
  {
   "cell_type": "code",
   "execution_count": 2,
   "metadata": {},
   "outputs": [],
   "source": [
    "english_words=set(words.words())"
   ]
  },
  {
   "cell_type": "code",
   "execution_count": 3,
   "metadata": {},
   "outputs": [
    {
     "data": {
      "text/plain": [
       "False"
      ]
     },
     "execution_count": 3,
     "metadata": {},
     "output_type": "execute_result"
    }
   ],
   "source": [
    "'i ' in english_words"
   ]
  },
  {
   "cell_type": "code",
   "execution_count": 4,
   "metadata": {},
   "outputs": [
    {
     "data": {
      "text/plain": [
       "True"
      ]
     },
     "execution_count": 4,
     "metadata": {},
     "output_type": "execute_result"
    }
   ],
   "source": [
    "'r' in english_words"
   ]
  },
  {
   "cell_type": "code",
   "execution_count": 5,
   "metadata": {},
   "outputs": [],
   "source": [
    "f = open('Constants.json')\n",
    "data = json.load(f)\n",
    "\n",
    "labels = data['labels']\n",
    "\n",
    "# number of classes\n",
    "NUM_CLASSES = data['NUM_CLASSES']\n",
    "\n",
    "# size of the images to be generated\n",
    "IMG_SIZE = data['TRAIN_IMG_SIZE']\n",
    "\n",
    "classes = ascii_lowercase + '0123456789'"
   ]
  },
  {
   "cell_type": "code",
   "execution_count": 6,
   "metadata": {},
   "outputs": [],
   "source": [
    "# loading the weights for the model\n",
    "model=load_model('sign_lang.h5')"
   ]
  },
  {
   "cell_type": "code",
   "execution_count": 7,
   "metadata": {},
   "outputs": [],
   "source": [
    "class GUI:\n",
    "    \n",
    "    def __init__(self):\n",
    "        self.current_word = ''\n",
    "        self.sentence = ''\n",
    "        self.character = ''\n",
    "        self.canvas=None\n",
    "        \n",
    "        self.cap = cv2.VideoCapture(0)\n",
    "        self.root = Tk()\n",
    "        \n",
    "        self.root.title(\"Sign language to Text Converter\")\n",
    "        self.root.protocol('WM_DELETE_WINDOW', self.destructor)\n",
    "        \n",
    "        self.count = {}\n",
    "        for i in classes:\n",
    "            self.count[i] = 0\n",
    "        \n",
    "        self.build_ui()\n",
    "        self.video_stream()\n",
    "        \n",
    "    def build_ui(self):\n",
    "        \n",
    "          # width*height\n",
    "        self.root.geometry('1000x600')\n",
    "        self.video_label = Label(self.root)\n",
    "        self.video_label.grid(rowspan = 400, columnspan = 600)\n",
    "\n",
    "        # Prediction Description Label\n",
    "        self.predicted_desc = Label(self.root)\n",
    "        self.predicted_desc.grid(row = 600, column = 10)\n",
    "        self.predicted_desc.config(text = \"Character :\", font = (\"Courier\",20, \"bold\"))\n",
    "\n",
    "        self.char = StringVar()\n",
    "\n",
    "        # Prediction Label\n",
    "        self.predicted = Label(self.root,textvariable = self.char)\n",
    "        self.predicted.grid(row = 600, column = 60)\n",
    "        self.predicted.config(textvariable = self.char,font=(\"Courier\", 20, \"bold\"))\n",
    "\n",
    "        # Word Description Label\n",
    "        self.word_desc = Label(self.root,text = 'Word:')\n",
    "        self.word_desc.grid(row = 800, column = 10)\n",
    "        self.word_desc.config(text = \"Word:\", font = (\"Courier\", 20, \"bold\"))\n",
    "\n",
    "\n",
    "        self.word = StringVar()\n",
    "\n",
    "        # Word Label\n",
    "        self.word_formed = Label(self.root,textvariable = self.current_word)\n",
    "        self.word_formed.grid(row = 800, column = 60)\n",
    "        self.word_formed.config(textvariable = self.current_word,font=(\"Courier\", 20, \"bold\"))\n",
    "        \n",
    "        # Sentence Description Label\n",
    "        self.sent_desc = Label(self.root)\n",
    "        self.sent_desc.grid(row = 1000, column = 10)\n",
    "        self.sent_desc.config(text = \"Sentence:\", font = (\"Courier\", 20, \"bold\"))\n",
    "\n",
    "\n",
    "        self.sent=StringVar()\n",
    "\n",
    "        # Sentence Label\n",
    "        self.sentence_formed=Label(self.root,textvariable = self.sent)\n",
    "        self.word_formed.grid(row = 1000, column = 60)\n",
    "        self.word_formed.config(textvariable=self.sent,font=(\"Courier\",20,\"bold\"))\n",
    "\n",
    "    def updateDepositLabel(self,*args):\n",
    "        self.char.set(args[0])\n",
    "        self.word.set(args[1])\n",
    "        self.sent.set(args[2])\n",
    "        \n",
    "    # function for video streaming\n",
    "    def video_stream(self):\n",
    "        \n",
    "        ret, frame = self.cap.read()\n",
    "        frame = cv2.flip(frame, 1)\n",
    "\n",
    "        hand_img = preprocess(frame)\n",
    "        probs_class_map,self.prediction = self.predict(hand_img)\n",
    "        self.plot(probs_class_map)\n",
    "        \n",
    "        if len(self.current_word) != 0 and self.prediction == 'blank':\n",
    "            self.sentence+=' '\n",
    "            self.sentence+=self.current_word\n",
    "            self.current_word = ''\n",
    "            for i in classes:\n",
    "                self.count[i] = 0\n",
    "        \n",
    "        elif self.prediction != 'blank':\n",
    "            self.count[self.prediction] += 1\n",
    "            if self.count[self.prediction] > 50:\n",
    "                self.current_word += self.prediction\n",
    "                for i in classes:\n",
    "                    self.count[i] = 0\n",
    "       \n",
    "            \n",
    "        self.updateDepositLabel(self.prediction, self.current_word,self.sentence)\n",
    "        cv2Img = cv2.cvtColor(frame,cv2.COLOR_BGR2RGBA)\n",
    "        img = Image.fromarray(cv2Img)\n",
    "        imgtk = ImageTk.PhotoImage(image = img)\n",
    "        self.video_label.imgtk = imgtk\n",
    "        self.video_label.configure(image = imgtk)\n",
    "        self.video_label.after(1, self.video_stream)\n",
    "    \n",
    "    \n",
    "    def destructor(self):\n",
    "        self.root.destroy()\n",
    "        self.cap.release()\n",
    "        \n",
    "    def predict(self,hand_img):\n",
    "        resized_hand_img = cv2.resize(hand_img, (IMG_SIZE, IMG_SIZE))\n",
    "        x_test = np.array(resized_hand_img)\n",
    "        x_test = x_test.reshape(1, IMG_SIZE, IMG_SIZE, 1)\n",
    "        probs=model.predict(x_test)[0]\n",
    "        pred=np.argmax(probs)\n",
    "        probs_class_map=[(index,probs[index]) for index in range(len(probs))]\n",
    "        \n",
    "        probs_class_map=sorted(probs_class_map,key=lambda elem:elem[1],reverse=True)[:5]\n",
    "        return probs_class_map,labels[str(pred)]\n",
    "    \n",
    "    def plot(self,probs_class_map):\n",
    "        \n",
    "        # destroying the old widget\n",
    "        if(self.canvas):\n",
    "            self.canvas.get_tk_widget().destroy()\n",
    "\n",
    "        f = plt.Figure(figsize=(6,5), dpi=60)\n",
    "        ax = f.add_subplot(111)\n",
    "        width=0.5\n",
    "        probs=[prob for curr_class,prob in probs_class_map]\n",
    "        most_classes=[labels.get(str(curr_class),'blank') for curr_class,prob in probs_class_map]\n",
    "        rects = ax.bar(most_classes,probs, width)\n",
    "        ax.set_xlabel('Top 5 Classes')\n",
    "        ax.set_ylabel('Probabilities')\n",
    "        ax.set_title('Class Wise Probabilities')\n",
    "        self.canvas = FigureCanvasTkAgg(f, master=self.root)\n",
    "        self.canvas.get_tk_widget().grid(row=300,column=720)\n",
    "        self.canvas.draw()"
   ]
  },
  {
   "cell_type": "code",
   "execution_count": 8,
   "metadata": {
    "scrolled": true
   },
   "outputs": [],
   "source": [
    "gui = GUI()\n",
    "gui.root.mainloop()"
   ]
  },
  {
   "cell_type": "code",
   "execution_count": 9,
   "metadata": {},
   "outputs": [],
   "source": [
    "gui.cap.release()"
   ]
  }
 ],
 "metadata": {
  "kernelspec": {
   "display_name": "Python 3",
   "language": "python",
   "name": "python3"
  },
  "language_info": {
   "codemirror_mode": {
    "name": "ipython",
    "version": 3
   },
   "file_extension": ".py",
   "mimetype": "text/x-python",
   "name": "python",
   "nbconvert_exporter": "python",
   "pygments_lexer": "ipython3",
   "version": "3.8.3"
  }
 },
 "nbformat": 4,
 "nbformat_minor": 4
}
